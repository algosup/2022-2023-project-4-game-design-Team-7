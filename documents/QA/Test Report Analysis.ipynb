{
 "cells": [
  {
   "cell_type": "code",
   "execution_count": 13,
   "metadata": {},
   "outputs": [],
   "source": [
    "import pandas as pd\n",
    "import colorama as col\n",
    "\n",
    "import matplotlib.pyplot as plt\n",
    "\n",
    "df = pd.read_csv(\"./Test Report.csv\")"
   ]
  },
  {
   "cell_type": "code",
   "execution_count": 14,
   "metadata": {},
   "outputs": [],
   "source": [
    "def print_red(s):\n",
    "    print(col.Fore.RED + s + col.Fore.RESET)\n",
    "\n",
    "def print_green(s):\n",
    "    print(col.Fore.GREEN + s + col.Fore.RESET)"
   ]
  },
  {
   "cell_type": "code",
   "execution_count": 15,
   "metadata": {},
   "outputs": [
    {
     "name": "stdout",
     "output_type": "stream",
     "text": [
      "Number of tests:  48\n",
      "\u001b[32mTests passing: 41\u001b[39m\n",
      "\u001b[31mTests failing: 7\u001b[39m\n"
     ]
    }
   ],
   "source": [
    "def check_tests_status():\n",
    "    number_of_tests = df.shape[0]\n",
    "    number_of_tests_passed = df['Status'].value_counts()['Yes']\n",
    "\n",
    "    if 'No' not in df['Status'].value_counts():\n",
    "        number_of_tests_failed = 0\n",
    "    else:\n",
    "        number_of_tests_failed = df['Status'].value_counts()['No']\n",
    "\n",
    "    if number_of_tests_passed + number_of_tests_failed != number_of_tests:\n",
    "        print_red(\"Error: Number of tests passed and failed does not equal total number of tests\")\n",
    "    else:\n",
    "        print(\"Number of tests: \", number_of_tests)\n",
    "        print_green(\"Tests passing: \" + str(number_of_tests_passed))\n",
    "        print_red(\"Tests failing: \" + str(number_of_tests_failed))\n",
    "\n",
    "check_tests_status()\n"
   ]
  },
  {
   "cell_type": "code",
   "execution_count": 16,
   "metadata": {},
   "outputs": [
    {
     "name": "stdout",
     "output_type": "stream",
     "text": [
      "number:  27\n",
      "Importance level:  3\n",
      "Type of issue:  Grappling hook not precise\n",
      "Steps to reproduce:  1. Start a level with a grappler 2. Take over the grappler 3. Use the grappling hook while walking 5. You grab the opposite way\n",
      "Actual result:  The grappling hook can sometimes be not precise and will not attach to the right surface\n",
      "Expected result:  The grappling hook needs to shoot where the player is aiming constantly\n",
      "How to fix:  Change the detection system of the grappling hook\n",
      "\n",
      "number:  48\n",
      "Importance level:  2\n",
      "Type of issue:  Slingshot bumper Collision\n",
      "Steps to reproduce:  1.Start a level with a \"slingshot\" and a \"bumper\" 2. Take over the \"slingshot\" 3. Jump on the bumper 4. Exit the slingshot in the air\n",
      "Actual result:  The slingshot will glitch into the bumper and when you take over the slingshot again you will glitch out of the map\n",
      "Expected result:  The slingshot should just bounce on the bumper even if the the player does not control it\n",
      "How to fix:  Change the collider of the bumper\n",
      "\n",
      "number:  47\n",
      "Importance level:  2\n",
      "Type of issue:  Slingshot bumper Collision\n",
      "Steps to reproduce:  1.Start a level with a \"slingshot\" and a \"bumper\" 2. Take over the \"slingshot\" 3. Jump on the corner of the bumper\n",
      "Actual result:  The bumper will stuck the player\n",
      "Expected result:  The player should only bounce on the bumper\n",
      "How to fix:  Change the collider of the bumper\n",
      "\n",
      "number:  46\n",
      "Importance level:  2\n",
      "Type of issue:  Grappling hook Collision\n",
      "Steps to reproduce:  1.Start a level with a \"grappler\" 2. Take over one 3.Try to hook something\n",
      "Actual result:  The hook will propulse the player in the air and will let him gravitate\n",
      "Expected result:  The hook should just make the player swing\n",
      "How to fix:  Constraint in '/Game/Scenes/UEDPIE_0_Playground.Playground:PersistentLevel.AC_Grappling_C_0.PhysicsConstraint' attempting to create a joint between objects that are both static.  No joint created.\n",
      "\n",
      "number:  45\n",
      "Importance level:  2\n",
      "Type of issue:  Menu responsiveness\n",
      "Steps to reproduce:  1.Start a random level while your windows is in \"fullscreen\" 2. Open the pause menu\n",
      "Actual result:  A part of the right side of the menu is not blurred\n",
      "Expected result:  The whole interface should be blurred\n",
      "How to fix:  Change the viewport of the menu\n",
      "\n",
      "number:  44\n",
      "Importance level:  2\n",
      "Type of issue:  Grappling preview\n",
      "Steps to reproduce:  1.Start a level with a \"grappler\" 2. Take over one 3. There is no indication of where the player aims\n",
      "Actual result:  The player doesn't know where he aims\n",
      "Expected result:  The player should be able to see the directions he aims\n",
      "How to fix:  Add a preview of the direction the player aims\n",
      "\n",
      "number:  43\n",
      "Importance level:  2\n",
      "Type of issue:  Grappler collider\n",
      "Steps to reproduce:  1.Start a level with a \"grappler\" 2. Take over one 3. Jump on the corner of a yellow box\n",
      "Actual result:  You can jump again and the player is stuck in the wall\n",
      "Expected result:  The grappler should slide on the wall\n",
      "How to fix:  Change the collider of the grappler\n",
      "\n"
     ]
    }
   ],
   "source": [
    "# Priority list of failed tests based on importance level\n",
    "\n",
    "def list_failed_tests_priority():\n",
    "    failed_tests = df[df['Status'] == 'No']\n",
    "    failed_tests = failed_tests.sort_values(by=['Severity'])\n",
    "    failed_tests = failed_tests.iloc[::-1]\n",
    "    if failed_tests.empty:\n",
    "        print_green(\"No failed tests\")\n",
    "    else:\n",
    "        for index, row in failed_tests.iterrows():\n",
    "            print(\"number: \", row['Bug ID'])\n",
    "            print(\"Importance level: \", row['Severity'])\n",
    "            print(\"Type of issue: \", row['Bug Description'])\n",
    "            print(\"Steps to reproduce: \", row['Steps to reproduce'])\n",
    "            print(\"Actual result: \", row['Actual result'])\n",
    "            print(\"Expected result: \", row['Expected result'])\n",
    "            print(\"How to fix: \", row['How to fix(if known)'])\n",
    "            print(\"\")\n",
    "\n",
    "list_failed_tests_priority()"
   ]
  },
  {
   "cell_type": "code",
   "execution_count": 17,
   "metadata": {},
   "outputs": [
    {
     "data": {
      "image/png": "[encoded data removed]",
      "text/plain": [
       "<Figure size 640x480 with 1 Axes>"
      ]
     },
     "metadata": {},
     "output_type": "display_data"
    }
   ],
   "source": [
    "# Graph of all the dates were bugs were discovered\n",
    "\n",
    "def graph_dates():\n",
    "    dates = df['Date of discovery'].value_counts()\n",
    "    dates = dates.sort_index()\n",
    "    dates.plot(kind='bar')\n",
    "    plt.show()\n",
    "\n",
    "graph_dates()"
   ]
  },
  {
   "cell_type": "code",
   "execution_count": 18,
   "metadata": {},
   "outputs": [
    {
     "data": {
      "image/png": "[encoded data removed]",
      "text/plain": [
       "<Figure size 640x480 with 1 Axes>"
      ]
     },
     "metadata": {},
     "output_type": "display_data"
    }
   ],
   "source": [
    "# Graph of all the bugs based on their importance level\n",
    "\n",
    "def graph_importance():\n",
    "    importance = df['Severity'].value_counts()\n",
    "    importance.plot(kind='bar')\n",
    "    plt.show()\n",
    "\n",
    "graph_importance()"
   ]
  }
 ],
 "metadata": {
  "kernelspec": {
   "display_name": "Python 3",
   "language": "python",
   "name": "python3"
  },
  "language_info": {
   "codemirror_mode": {
    "name": "ipython",
    "version": 3
   },
   "file_extension": ".py",
   "mimetype": "text/x-python",
   "name": "python",
   "nbconvert_exporter": "python",
   "pygments_lexer": "ipython3",
   "version": "3.11.0"
  },
  "orig_nbformat": 4,
  "vscode": {
   "interpreter": {
    "hash": "aee8b7b246df8f9039afb4144a1f6fd8d2ca17a180786b69acc140d282b71a49"
   }
  }
 },
 "nbformat": 4,
 "nbformat_minor": 2
}
