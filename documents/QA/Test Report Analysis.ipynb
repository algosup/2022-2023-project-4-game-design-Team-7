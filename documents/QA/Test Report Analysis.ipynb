{
 "cells": [
  {
   "cell_type": "code",
   "execution_count": 127,
   "metadata": {},
   "outputs": [],
   "source": [
    "import pandas as pd\n",
    "import colorama as col\n",
    "\n",
    "import matplotlib.pyplot as plt\n",
    "\n",
    "df = pd.read_csv(\"./Test Report.csv\")"
   ]
  },
  {
   "cell_type": "code",
   "execution_count": 128,
   "metadata": {},
   "outputs": [],
   "source": [
    "def print_red(s):\n",
    "    print(col.Fore.RED + s + col.Fore.RESET)\n",
    "\n",
    "def print_green(s):\n",
    "    print(col.Fore.GREEN + s + col.Fore.RESET)"
   ]
  },
  {
   "cell_type": "code",
   "execution_count": 129,
   "metadata": {},
   "outputs": [
    {
     "name": "stdout",
     "output_type": "stream",
     "text": [
      "Number of tests:  43\n",
      "\u001b[32mTests passing: 38\u001b[39m\n",
      "\u001b[31mTests failing: 5\u001b[39m\n"
     ]
    }
   ],
   "source": [
    "def check_tests_status():\n",
    "    number_of_tests = df.shape[0]\n",
    "    number_of_tests_passed = df['Status'].value_counts()['Yes']\n",
    "\n",
    "    if 'No' not in df['Status'].value_counts():\n",
    "        number_of_tests_failed = 0\n",
    "    else:\n",
    "        number_of_tests_failed = df['Status'].value_counts()['No']\n",
    "\n",
    "    if number_of_tests_passed + number_of_tests_failed != number_of_tests:\n",
    "        print_red(\"Error: Number of tests passed and failed does not equal total number of tests\")\n",
    "    else:\n",
    "        print(\"Number of tests: \", number_of_tests)\n",
    "        print_green(\"Tests passing: \" + str(number_of_tests_passed))\n",
    "        print_red(\"Tests failing: \" + str(number_of_tests_failed))\n",
    "\n",
    "check_tests_status()\n"
   ]
  },
  {
   "cell_type": "code",
   "execution_count": 130,
   "metadata": {},
   "outputs": [
    {
     "name": "stdout",
     "output_type": "stream",
     "text": [
      "number:  29\n",
      "Importance level:  3\n",
      "Type of issue:  Throwing out of the grappler\n",
      "Steps to reproduce:  1. Start a level with a grappler 2. Take over it 3. Try to throw out of it\n",
      "Actual result:  You cannot throw out of the grappler\n",
      "Expected result:  The player should be able to get out of the grappler\n",
      "How to fix:  Add the already existing script to throw out of the alien\n",
      "\n",
      "number:  27\n",
      "Importance level:  3\n",
      "Type of issue:  Grappling hook not precise\n",
      "Steps to reproduce:  1. Start a level with a grappler 2. Take over the grappler 3. Use the grappling hook on an aerial surface 4. Try to use it on another aerial surface 5. You can grab the opposite way\n",
      "Actual result:  The grappling hook can sometimes be not precise and will not attach to the right surface\n",
      "Expected result:  The grappling hook needs to shoot where the player is aiming\n",
      "How to fix:  Change the detection system of the grappling hook\n",
      "\n",
      "number:  47\n",
      "Importance level:  2\n",
      "Type of issue:  Grappling through an alien\n",
      "Steps to reproduce:  1.Start a level with a \"grappler\" 2. Take over one 3. Use the grappling hook through an alien\n",
      "Actual result:  The grappling hook will activate the \"bullet time\"\n",
      "Expected result:  The grappling hook should ignore aliens on its path\n",
      "How to fix:  Add a condition to the grappling hook to ignore aliens\n",
      "\n",
      "number:  46\n",
      "Importance level:  2\n",
      "Type of issue:  Throwing preview\n",
      "Steps to reproduce:  1.Start a level with a \"slingshot\" 2. Take over one 3. Keep the jump button pressed while throwing 4. Take over the \"slingshot\" again\n",
      "Actual result:  The jump preview will stay even if the player is not pressing the button\n",
      "Expected result:  The jump preview should disappear when the player is not pressing the button\n",
      "How to fix:  Add a condition to the jump preview\n",
      "\n",
      "number:  38\n",
      "Importance level:  2\n",
      "Type of issue:  Checkpoint level 4\n",
      "Steps to reproduce:  1.Start the level 4 2. Go to the first checkpoint 3.Touch the right corner of the checkpoint\n",
      "Actual result:  The player can respawn at the corner of the checkpoint and fall instantly\n",
      "Expected result:  The player should be able to respawn on a flat surface\n",
      "How to fix:  Move the checkpoint\n",
      "\n"
     ]
    }
   ],
   "source": [
    "# Priority list of failed tests based on importance level\n",
    "\n",
    "def list_failed_tests_priority():\n",
    "    failed_tests = df[df['Status'] == 'No']\n",
    "    failed_tests = failed_tests.sort_values(by=['Severity'])\n",
    "    failed_tests = failed_tests.iloc[::-1]\n",
    "    if failed_tests.empty:\n",
    "        print_green(\"No failed tests\")\n",
    "    else:\n",
    "        for index, row in failed_tests.iterrows():\n",
    "            print(\"number: \", row['Bug ID'])\n",
    "            print(\"Importance level: \", row['Severity'])\n",
    "            print(\"Type of issue: \", row['Bug Description'])\n",
    "            print(\"Steps to reproduce: \", row['Steps to reproduce'])\n",
    "            print(\"Actual result: \", row['Actual result'])\n",
    "            print(\"Expected result: \", row['Expected result'])\n",
    "            print(\"How to fix: \", row['How to fix(if known)'])\n",
    "            print(\"\")\n",
    "\n",
    "list_failed_tests_priority()"
   ]
  },
  {
   "cell_type": "code",
   "execution_count": 131,
   "metadata": {},
   "outputs": [
    {
     "data": {
      "image/png": "[encoded data removed]",
      "text/plain": [
       "<Figure size 640x480 with 1 Axes>"
      ]
     },
     "metadata": {},
     "output_type": "display_data"
    }
   ],
   "source": [
    "# Graph of all the dates were bugs were discovered\n",
    "\n",
    "def graph_dates():\n",
    "    dates = df['Date of discovery'].value_counts()\n",
    "    dates = dates.sort_index()\n",
    "    dates.plot(kind='bar')\n",
    "    plt.show()\n",
    "\n",
    "graph_dates()"
   ]
  },
  {
   "cell_type": "code",
   "execution_count": 132,
   "metadata": {},
   "outputs": [
    {
     "data": {
      "image/png": "[encoded data removed]",
      "text/plain": [
       "<Figure size 640x480 with 1 Axes>"
      ]
     },
     "metadata": {},
     "output_type": "display_data"
    }
   ],
   "source": [
    "# Graph of all the bugs based on their importance level\n",
    "\n",
    "def graph_importance():\n",
    "    importance = df['Severity'].value_counts()\n",
    "    importance.plot(kind='bar')\n",
    "    plt.show()\n",
    "\n",
    "graph_importance()"
   ]
  }
 ],
 "metadata": {
  "kernelspec": {
   "display_name": "Python 3",
   "language": "python",
   "name": "python3"
  },
  "language_info": {
   "codemirror_mode": {
    "name": "ipython",
    "version": 3
   },
   "file_extension": ".py",
   "mimetype": "text/x-python",
   "name": "python",
   "nbconvert_exporter": "python",
   "pygments_lexer": "ipython3",
   "version": "3.11.0"
  },
  "orig_nbformat": 4
 },
 "nbformat": 4,
 "nbformat_minor": 2
}
