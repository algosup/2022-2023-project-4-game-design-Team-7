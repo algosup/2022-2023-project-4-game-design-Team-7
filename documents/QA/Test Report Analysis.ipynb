{
 "cells": [
  {
   "cell_type": "code",
   "execution_count": 1,
   "metadata": {},
   "outputs": [],
   "source": [
    "import pandas as pd\n",
    "import colorama as col\n",
    "\n",
    "import matplotlib.pyplot as plt\n",
    "\n",
    "df = pd.read_csv(\"./Test Report.csv\")"
   ]
  },
  {
   "cell_type": "code",
   "execution_count": 2,
   "metadata": {},
   "outputs": [],
   "source": [
    "def print_red(s):\n",
    "    print(col.Fore.RED + s + col.Fore.RESET)\n",
    "\n",
    "def print_green(s):\n",
    "    print(col.Fore.GREEN + s + col.Fore.RESET)"
   ]
  },
  {
   "cell_type": "code",
   "execution_count": 3,
   "metadata": {},
   "outputs": [
    {
     "name": "stdout",
     "output_type": "stream",
     "text": [
      "Number of tests:  55\n",
      "\u001b[32mTests passing: 55\u001b[39m\n",
      "\u001b[31mTests failing: 0\u001b[39m\n"
     ]
    }
   ],
   "source": [
    "def check_tests_status():\n",
    "    number_of_tests = df.shape[0]\n",
    "    number_of_tests_passed = df['Status'].value_counts()['Yes']\n",
    "\n",
    "    if 'No' not in df['Status'].value_counts():\n",
    "        number_of_tests_failed = 0\n",
    "    else:\n",
    "        number_of_tests_failed = df['Status'].value_counts()['No']\n",
    "\n",
    "    if number_of_tests_passed + number_of_tests_failed != number_of_tests:\n",
    "        print_red(\"Error: Number of tests passed and failed does not equal total number of tests\")\n",
    "    else:\n",
    "        print(\"Number of tests: \", number_of_tests)\n",
    "        print_green(\"Tests passing: \" + str(number_of_tests_passed))\n",
    "        print_red(\"Tests failing: \" + str(number_of_tests_failed))\n",
    "\n",
    "check_tests_status()\n"
   ]
  },
  {
   "cell_type": "code",
   "execution_count": 4,
   "metadata": {},
   "outputs": [
    {
     "name": "stdout",
     "output_type": "stream",
     "text": [
      "\u001b[32mNo failed tests\u001b[39m\n"
     ]
    }
   ],
   "source": [
    "# Priority list of failed tests based on importance level\n",
    "\n",
    "def list_failed_tests_priority():\n",
    "    failed_tests = df[df['Status'] == 'No']\n",
    "    failed_tests = failed_tests.sort_values(by=['Severity'])\n",
    "    failed_tests = failed_tests.iloc[::-1]\n",
    "    if failed_tests.empty:\n",
    "        print_green(\"No failed tests\")\n",
    "    else:\n",
    "        for index, row in failed_tests.iterrows():\n",
    "            print(\"number: \", row['Bug ID'])\n",
    "            print(\"Importance level: \", row['Severity'])\n",
    "            print(\"Type of issue: \", row['Bug Description'])\n",
    "            print(\"Steps to reproduce: \", row['Steps to reproduce'])\n",
    "            print(\"Actual result: \", row['Actual result'])\n",
    "            print(\"Expected result: \", row['Expected result'])\n",
    "            print(\"How to fix: \", row['How to fix(if known)'])\n",
    "            print(\"\")\n",
    "\n",
    "list_failed_tests_priority()"
   ]
  },
  {
   "cell_type": "code",
   "execution_count": 5,
   "metadata": {},
   "outputs": [
    {
     "data": {
      "image/png": "[encoded data removed]",
      "text/plain": [
       "<Figure size 432x288 with 1 Axes>"
      ]
     },
     "metadata": {
      "needs_background": "light"
     },
     "output_type": "display_data"
    }
   ],
   "source": [
    "# Graph of all the dates were bugs were discovered\n",
    "\n",
    "def graph_dates():\n",
    "    dates = df['Date of discovery'].value_counts()\n",
    "    dates = dates.sort_index()\n",
    "    dates.plot(kind='bar')\n",
    "    plt.show()\n",
    "\n",
    "graph_dates()"
   ]
  },
  {
   "cell_type": "code",
   "execution_count": 6,
   "metadata": {},
   "outputs": [
    {
     "data": {
      "image/png": "[encoded data removed]",
      "text/plain": [
       "<Figure size 432x288 with 1 Axes>"
      ]
     },
     "metadata": {
      "needs_background": "light"
     },
     "output_type": "display_data"
    }
   ],
   "source": [
    "# Graph of all the bugs based on their importance level\n",
    "\n",
    "def graph_importance():\n",
    "    importance = df['Severity'].value_counts()\n",
    "    importance.plot(kind='bar')\n",
    "    plt.show()\n",
    "\n",
    "graph_importance()"
   ]
  }
 ],
 "metadata": {
  "kernelspec": {
   "display_name": "Python 3",
   "language": "python",
   "name": "python3"
  },
  "language_info": {
   "codemirror_mode": {
    "name": "ipython",
    "version": 3
   },
   "file_extension": ".py",
   "mimetype": "text/x-python",
   "name": "python",
   "nbconvert_exporter": "python",
   "pygments_lexer": "ipython3",
   "version": "3.10.4"
  },
  "orig_nbformat": 4,
  "vscode": {
   "interpreter": {
    "hash": "aee8b7b246df8f9039afb4144a1f6fd8d2ca17a180786b69acc140d282b71a49"
   }
  }
 },
 "nbformat": 4,
 "nbformat_minor": 2
}
