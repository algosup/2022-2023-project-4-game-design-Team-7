{
 "cells": [
  {
   "cell_type": "code",
   "execution_count": 25,
   "metadata": {},
   "outputs": [],
   "source": [
    "import pandas as pd\n",
    "import colorama as col\n",
    "\n",
    "df = pd.read_csv(\"./Test Report.csv\")"
   ]
  },
  {
   "cell_type": "code",
   "execution_count": 26,
   "metadata": {},
   "outputs": [],
   "source": [
    "def print_red(s):\n",
    "    print(col.Fore.RED + s + col.Fore.RESET)\n",
    "\n",
    "def print_green(s):\n",
    "    print(col.Fore.GREEN + s + col.Fore.RESET)\n",
    "    "
   ]
  },
  {
   "cell_type": "code",
   "execution_count": 27,
   "metadata": {},
   "outputs": [
    {
     "name": "stdout",
     "output_type": "stream",
     "text": [
      "Number of tests:  32\n",
      "\u001b[32mTests passing: 25\u001b[39m\n",
      "\u001b[31mTests failing: 7\u001b[39m\n"
     ]
    }
   ],
   "source": [
    "def check_tests_status():\n",
    "    number_of_tests = df.shape[0]\n",
    "    number_of_tests_passed = df['Status'].value_counts()['Yes']\n",
    "\n",
    "    if 'No' not in df['Status'].value_counts():\n",
    "        number_of_tests_failed = 0\n",
    "    else:\n",
    "        number_of_tests_failed = df['Status'].value_counts()['No']\n",
    "\n",
    "    if number_of_tests_passed + number_of_tests_failed != number_of_tests:\n",
    "        print_red(\"Error: Number of tests passed and failed does not equal total number of tests\")\n",
    "    else:\n",
    "        print(\"Number of tests: \", number_of_tests)\n",
    "        print_green(\"Tests passing: \" + str(number_of_tests_passed))\n",
    "        print_red(\"Tests failing: \" + str(number_of_tests_failed))\n",
    "\n",
    "check_tests_status()"
   ]
  },
  {
   "cell_type": "code",
   "execution_count": 29,
   "metadata": {},
   "outputs": [
    {
     "name": "stdout",
     "output_type": "stream",
     "text": [
      "number:  29\n",
      "Importance level:  3\n",
      "Type of issue:  Throwing out of the grappler\n",
      "Steps to reproduce:  1. Start a level with a grappler 2. Take over it 3. Try to throw out of it\n",
      "Actual result:  You cannot throw out of the grappler\n",
      "Expected result:  The player should be able to get out of the grappler\n",
      "How to fix:  Add the already existing script to throw out of the alien\n",
      "\n",
      "number:  28\n",
      "Importance level:  3\n",
      "Type of issue:  Throwing when hooked\n",
      "Steps to reproduce:  1. Start a level with a grappler 2. Take over the grappler 3. Use the grappling hook on any surface 4. Try to throw out of the grappler while you are hooked\n",
      "Actual result:  You cannot throw out of the grappler while you are hooked and since you can't remove the hook you are stuck\n",
      "Expected result:  The player needs to have a way to get out of the grappler he is when hooked to a surface\n",
      "How to fix:  Add a way to remove the hook from a surface\n",
      "\n",
      "number:  27\n",
      "Importance level:  3\n",
      "Type of issue:  Grappling hook not precise\n",
      "Steps to reproduce:  1. Start a level with a grappler 2. Take over the grappler 3. Use the grappling hook on an aerial surface 4. Try to use it on another aerial surface 5. You can grab the opposite way\n",
      "Actual result:  The grappling hook can sometimes be not precise and will not attach to the right surface\n",
      "Expected result:  The grappling hook needs to shoot where the player is aiming\n",
      "How to fix:  Change the detection system of the grappling hook\n",
      "\n",
      "number:  32\n",
      "Importance level:  2\n",
      "Type of issue:  Slingshot collider issue\n",
      "Steps to reproduce:  1. Start a level with a slingshot and with black and white boxes 2. Take over the slingshot 3. Jump on the corner of a black box\n",
      "Actual result:  You can jump again and you are stuck in the wall\n",
      "Expected result:  Player's movements should not be limited by a collider\n",
      "How to fix:  Change the collider of the black box\n",
      "\n",
      "number:  26\n",
      "Importance level:  2\n",
      "Type of issue:  Grappling hook on surface\n",
      "Steps to reproduce:  1. Start a level with a grappler 2. Take over the grappler 3. Use the grappling hook on a surface 4. Try to remove the hook from the surface\n",
      "Actual result:  You cannot remove the hook from the surface which restrict the player's movement\n",
      "Expected result:  The player should be able to remove the hook from a wall\n",
      "How to fix:  Add a button to remove the hook from the surface\n",
      "\n",
      "number:  31\n",
      "Importance level:  1\n",
      "Type of issue:  Throwing preview\n",
      "Steps to reproduce:  1. Start a level with an alien 2. Take over it 3. Overlap the alien with another one 4. Try to throw out of the alien\n",
      "Actual result:  The throw preview is not shown because it is stuck in the alien\n",
      "Expected result:  The preview should not take into account the alien\n",
      "How to fix:  Change the axis of the throw preview\n",
      "\n",
      "number:  30\n",
      "Importance level:  1\n",
      "Type of issue:  Slingshot preview\n",
      "Steps to reproduce:  1. Start a level with a slingshot 2. Take over the slingshot 3. Overlap the slingshot with another alien 4. Try to jump with the slingshot\n",
      "Actual result:  The preview is not shown because it is stuck in the alien\n",
      "Expected result:  The preview should not take into account the alien\n",
      "How to fix:  Change the Y axis of the preview\n",
      "\n"
     ]
    }
   ],
   "source": [
    "# Priority list of failed tests based on importance level\n",
    "\n",
    "def list_failed_tests_priority():\n",
    "    failed_tests = df[df['Status'] == 'No']\n",
    "    failed_tests = failed_tests.sort_values(by=['Severity'])\n",
    "    failed_tests = failed_tests.iloc[::-1]\n",
    "    if failed_tests.empty:\n",
    "        print_green(\"No failed tests\")\n",
    "    else:\n",
    "        for index, row in failed_tests.iterrows():\n",
    "            print(\"number: \", row['Bug ID'])\n",
    "            print(\"Importance level: \", row['Severity'])\n",
    "            print(\"Type of issue: \", row['Bug Description'])\n",
    "            print(\"Steps to reproduce: \", row['Steps to reproduce'])\n",
    "            print(\"Actual result: \", row['Actual result'])\n",
    "            print(\"Expected result: \", row['Expected result'])\n",
    "            print(\"How to fix: \", row['How to fix(if known)'])\n",
    "            print(\"\")\n",
    "\n",
    "list_failed_tests_priority()"
   ]
  }
 ],
 "metadata": {
  "kernelspec": {
   "display_name": "Python 3",
   "language": "python",
   "name": "python3"
  },
  "language_info": {
   "codemirror_mode": {
    "name": "ipython",
    "version": 3
   },
   "file_extension": ".py",
   "mimetype": "text/x-python",
   "name": "python",
   "nbconvert_exporter": "python",
   "pygments_lexer": "ipython3",
   "version": "3.11.0"
  },
  "orig_nbformat": 4
 },
 "nbformat": 4,
 "nbformat_minor": 2
}
