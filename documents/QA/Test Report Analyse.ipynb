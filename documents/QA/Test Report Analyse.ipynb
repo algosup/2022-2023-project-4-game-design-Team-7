{
 "cells": [
  {
   "cell_type": "code",
   "execution_count": 165,
   "metadata": {},
   "outputs": [],
   "source": [
    "import pandas as pd\n",
    "import colorama as col\n",
    "\n",
    "df = pd.read_csv(\"./Test Report.csv\")"
   ]
  },
  {
   "cell_type": "code",
   "execution_count": 166,
   "metadata": {},
   "outputs": [],
   "source": [
    "def print_red(s):\n",
    "    print(col.Fore.RED + s + col.Fore.RESET)\n",
    "\n",
    "def print_green(s):\n",
    "    print(col.Fore.GREEN + s + col.Fore.RESET)\n",
    "    "
   ]
  },
  {
   "cell_type": "code",
   "execution_count": 167,
   "metadata": {},
   "outputs": [
    {
     "name": "stdout",
     "output_type": "stream",
     "text": [
      "\u001b[31mError: Number of tests passed and failed does not equal total number of tests\u001b[39m\n"
     ]
    }
   ],
   "source": [
    "def check_tests_status():\n",
    "    number_of_tests = df.shape[0]\n",
    "    number_of_tests_passed = df['Status'].value_counts()['Yes']\n",
    "\n",
    "    if 'No' not in df['Status'].value_counts():\n",
    "        number_of_tests_failed = 0\n",
    "    else:\n",
    "        number_of_tests_failed = df['Status'].value_counts()['No']\n",
    "\n",
    "    if number_of_tests_passed + number_of_tests_failed != number_of_tests:\n",
    "        print_red(\"Error: Number of tests passed and failed does not equal total number of tests\")\n",
    "    else:\n",
    "        print(\"Number of tests: \", number_of_tests)\n",
    "        print_green(\"Tests passing: \" + str(number_of_tests_passed))\n",
    "        print_red(\"Tests failing: \" + str(number_of_tests_failed))\n",
    "\n",
    "check_tests_status()"
   ]
  },
  {
   "cell_type": "code",
   "execution_count": 168,
   "metadata": {},
   "outputs": [
    {
     "name": "stdout",
     "output_type": "stream",
     "text": [
      "number:  17\n",
      "Type of issue:  Collision between aliens\n",
      "Steps to reproduce:  1. Start a level with 2 different aliens 2. Take over one of them 3. Jump on the other one 4. Get out of the first one while you are on the second one 5. Try to take over the 2nd one\n",
      "How to fix:  Check if all the aliens have a coherent collider and if they are fix on the axis\n",
      "\n",
      "number:  18\n",
      "Type of issue:  Preview issue\n",
      "Steps to reproduce:  1. Start a level with a jumper 2. Take over the jumper 3. Try to go between 2 set of boxes with 1 cube width between them 4. Try to get out of the jumper\n",
      "How to fix:  Check from where the preview is shown\n",
      "\n"
     ]
    }
   ],
   "source": [
    "# List all tests that failed and print the Type of issue\n",
    "\n",
    "def list_failed_tests():\n",
    "    failed_tests = df[df['Status'] == 'No']\n",
    "    for index, row in failed_tests.iterrows():\n",
    "        print(\"number: \", row['Issue Number'])\n",
    "        print(\"Type of issue: \", row['Type of issue'])\n",
    "        print(\"Steps to reproduce: \", row['Steps to reproduce'])\n",
    "        print(\"How to fix: \", row['How to fix(if known)'])\n",
    "        print(\"\")\n",
    "\n",
    "list_failed_tests()"
   ]
  },
  {
   "cell_type": "code",
   "execution_count": 169,
   "metadata": {},
   "outputs": [
    {
     "name": "stdout",
     "output_type": "stream",
     "text": [
      "number:  17\n",
      "Importance level:  3.0\n",
      "Type of issue:  Collision between aliens\n",
      "Steps to reproduce:  1. Start a level with 2 different aliens 2. Take over one of them 3. Jump on the other one 4. Get out of the first one while you are on the second one 5. Try to take over the 2nd one\n",
      "How to fix:  Check if all the aliens have a coherent collider and if they are fix on the axis\n",
      "\n",
      "number:  18\n",
      "Importance level:  2.0\n",
      "Type of issue:  Preview issue\n",
      "Steps to reproduce:  1. Start a level with a jumper 2. Take over the jumper 3. Try to go between 2 set of boxes with 1 cube width between them 4. Try to get out of the jumper\n",
      "How to fix:  Check from where the preview is shown\n",
      "\n"
     ]
    }
   ],
   "source": [
    "# Priority list of failed tests based on importance level\n",
    "\n",
    "def list_failed_tests_priority():\n",
    "    failed_tests = df[df['Status'] == 'No']\n",
    "    failed_tests = failed_tests.sort_values(by=['Importance level'])\n",
    "    failed_tests = failed_tests.iloc[::-1]\n",
    "    for index, row in failed_tests.iterrows():\n",
    "        print(\"number: \", row['Issue Number'])\n",
    "        print(\"Importance level: \", row['Importance level'])\n",
    "        print(\"Type of issue: \", row['Type of issue'])\n",
    "        print(\"Steps to reproduce: \", row['Steps to reproduce'])\n",
    "        print(\"How to fix: \", row['How to fix(if known)'])\n",
    "        print(\"\")\n",
    "\n",
    "list_failed_tests_priority()"
   ]
  }
 ],
 "metadata": {
  "kernelspec": {
   "display_name": "Python 3",
   "language": "python",
   "name": "python3"
  },
  "language_info": {
   "codemirror_mode": {
    "name": "ipython",
    "version": 3
   },
   "file_extension": ".py",
   "mimetype": "text/x-python",
   "name": "python",
   "nbconvert_exporter": "python",
   "pygments_lexer": "ipython3",
   "version": "3.11.0"
  },
  "orig_nbformat": 4
 },
 "nbformat": 4,
 "nbformat_minor": 2
}
