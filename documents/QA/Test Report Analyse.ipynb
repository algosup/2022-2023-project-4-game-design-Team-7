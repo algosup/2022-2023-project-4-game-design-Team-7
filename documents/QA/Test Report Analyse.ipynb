{
 "cells": [
  {
   "cell_type": "code",
   "execution_count": 39,
   "metadata": {},
   "outputs": [],
   "source": [
    "import pandas as pd\n",
    "import colorama as col\n",
    "\n",
    "df = pd.read_csv(\"./Test Report.csv\")"
   ]
  },
  {
   "cell_type": "code",
   "execution_count": 40,
   "metadata": {},
   "outputs": [],
   "source": [
    "def print_red(s):\n",
    "    print(col.Fore.RED + s + col.Fore.RESET)\n",
    "\n",
    "def print_green(s):\n",
    "    print(col.Fore.GREEN + s + col.Fore.RESET)\n",
    "    "
   ]
  },
  {
   "cell_type": "code",
   "execution_count": 41,
   "metadata": {},
   "outputs": [
    {
     "name": "stdout",
     "output_type": "stream",
     "text": [
      "Number of tests:  21\n",
      "\u001b[32mTests passing: 19\u001b[39m\n",
      "\u001b[31mTests failing: 2\u001b[39m\n"
     ]
    }
   ],
   "source": [
    "def check_tests_status():\n",
    "    number_of_tests = df.shape[0]\n",
    "    number_of_tests_passed = df['Status'].value_counts()['Yes']\n",
    "\n",
    "    if 'No' not in df['Status'].value_counts():\n",
    "        number_of_tests_failed = 0\n",
    "    else:\n",
    "        number_of_tests_failed = df['Status'].value_counts()['No']\n",
    "\n",
    "    if number_of_tests_passed + number_of_tests_failed != number_of_tests:\n",
    "        print_red(\"Error: Number of tests passed and failed does not equal total number of tests\")\n",
    "    else:\n",
    "        print(\"Number of tests: \", number_of_tests)\n",
    "        print_green(\"Tests passing: \" + str(number_of_tests_passed))\n",
    "        print_red(\"Tests failing: \" + str(number_of_tests_failed))\n",
    "\n",
    "check_tests_status()"
   ]
  },
  {
   "cell_type": "code",
   "execution_count": 42,
   "metadata": {},
   "outputs": [
    {
     "name": "stdout",
     "output_type": "stream",
     "text": [
      "number:  20\n",
      "Type of issue:  Collision between the slingshot and the parasite\n",
      "Steps to reproduce:  1. Start a level with a slingshot 2. Take over the slingshot 3. Launch the slingshot in the air 4. Get out of the slingshot in the direction of the ground when you almost touch it\n",
      "Result:  The parasite will spill infinitely in the ground and will never die\n",
      "How to fix:  Change the blueprint related to the possession of the slingshot to move the parasite\n",
      "\n",
      "number:  21\n",
      "Type of issue:  Collision issue with ramps\n",
      "Steps to reproduce:  1. Start a level with a small ramp (level 1) 2. Put the parasite in front of a rising ramp 3. Advance the parasite\n",
      "Result:  The parasite will not be able to climb the ramp\n",
      "How to fix:  Change the collider of the ramp\n",
      "\n"
     ]
    }
   ],
   "source": [
    "# List all tests that failed and print the Type of issue\n",
    "\n",
    "def list_failed_tests():\n",
    "    failed_tests = df[df['Status'] == 'No']\n",
    "    for index, row in failed_tests.iterrows():\n",
    "        print(\"number: \", row['Issue Number'])\n",
    "        print(\"Type of issue: \", row['Type of issue'])\n",
    "        print(\"Steps to reproduce: \", row['Steps to reproduce'])\n",
    "        print(\"Result: \", row['Result'])\n",
    "        print(\"How to fix: \", row['How to fix(if known)'])\n",
    "        print(\"\")\n",
    "\n",
    "list_failed_tests()"
   ]
  },
  {
   "cell_type": "code",
   "execution_count": 43,
   "metadata": {},
   "outputs": [
    {
     "name": "stdout",
     "output_type": "stream",
     "text": [
      "number:  21\n",
      "Importance level:  2\n",
      "Type of issue:  Collision issue with ramps\n",
      "Steps to reproduce:  1. Start a level with a small ramp (level 1) 2. Put the parasite in front of a rising ramp 3. Advance the parasite\n",
      "How to fix:  Change the collider of the ramp\n",
      "\n",
      "number:  20\n",
      "Importance level:  2\n",
      "Type of issue:  Collision between the slingshot and the parasite\n",
      "Steps to reproduce:  1. Start a level with a slingshot 2. Take over the slingshot 3. Launch the slingshot in the air 4. Get out of the slingshot in the direction of the ground when you almost touch it\n",
      "How to fix:  Change the blueprint related to the possession of the slingshot to move the parasite\n",
      "\n"
     ]
    }
   ],
   "source": [
    "# Priority list of failed tests based on importance level\n",
    "\n",
    "def list_failed_tests_priority():\n",
    "    failed_tests = df[df['Status'] == 'No']\n",
    "    failed_tests = failed_tests.sort_values(by=['Importance level'])\n",
    "    failed_tests = failed_tests.iloc[::-1]\n",
    "    for index, row in failed_tests.iterrows():\n",
    "        print(\"number: \", row['Issue Number'])\n",
    "        print(\"Importance level: \", row['Importance level'])\n",
    "        print(\"Type of issue: \", row['Type of issue'])\n",
    "        print(\"Steps to reproduce: \", row['Steps to reproduce'])\n",
    "        print(\"How to fix: \", row['How to fix(if known)'])\n",
    "        print(\"\")\n",
    "\n",
    "list_failed_tests_priority()"
   ]
  }
 ],
 "metadata": {
  "kernelspec": {
   "display_name": "Python 3",
   "language": "python",
   "name": "python3"
  },
  "language_info": {
   "codemirror_mode": {
    "name": "ipython",
    "version": 3
   },
   "file_extension": ".py",
   "mimetype": "text/x-python",
   "name": "python",
   "nbconvert_exporter": "python",
   "pygments_lexer": "ipython3",
   "version": "3.11.0"
  },
  "orig_nbformat": 4
 },
 "nbformat": 4,
 "nbformat_minor": 2
}
