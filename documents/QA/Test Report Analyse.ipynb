{
 "cells": [
  {
   "cell_type": "code",
   "execution_count": 14,
   "metadata": {},
   "outputs": [],
   "source": [
    "import pandas as pd\n",
    "import colorama as col\n",
    "\n",
    "df = pd.read_csv(\"./Test Report.csv\")"
   ]
  },
  {
   "cell_type": "code",
   "execution_count": 15,
   "metadata": {},
   "outputs": [],
   "source": [
    "def print_red(s):\n",
    "    print(col.Fore.RED + s + col.Fore.RESET)\n",
    "\n",
    "def print_green(s):\n",
    "    print(col.Fore.GREEN + s + col.Fore.RESET)\n",
    "    "
   ]
  },
  {
   "cell_type": "code",
   "execution_count": 16,
   "metadata": {},
   "outputs": [
    {
     "name": "stdout",
     "output_type": "stream",
     "text": [
      "Number of tests:  9\n",
      "\u001b[32mTests passing: 8\u001b[39m\n",
      "\u001b[31mTests failing: 1\u001b[39m\n"
     ]
    }
   ],
   "source": [
    "def check_tests_status():\n",
    "    number_of_tests = df.shape[0]\n",
    "    number_of_tests_passed = df['Status'].value_counts()['Yes']\n",
    "    number_of_tests_failed = df['Status'].value_counts()['No']\n",
    "\n",
    "    if number_of_tests_passed + number_of_tests_failed != number_of_tests:\n",
    "        print_red(\"Error: Number of tests passed and failed does not equal total number of tests\")\n",
    "    else:\n",
    "        print(\"Number of tests: \", number_of_tests)\n",
    "        print_green(\"Tests passing: \" + str(number_of_tests_passed))\n",
    "        print_red(\"Tests failing: \" + str(number_of_tests_failed))\n",
    "\n",
    "check_tests_status()"
   ]
  },
  {
   "cell_type": "code",
   "execution_count": 17,
   "metadata": {},
   "outputs": [
    {
     "name": "stdout",
     "output_type": "stream",
     "text": [
      "number:  9\n",
      "Type of issue:  Building the game in release mode remove the ability preview\n",
      "Steps to reproduce:  1. Build the game in release mode. 2. Take over an alien. 3. Try to use an ability\n",
      "How to fix:  Need to make the same function but for release mode\n",
      "\n"
     ]
    }
   ],
   "source": [
    "# List all tests that failed and print the Type of issue\n",
    "def list_failed_tests():\n",
    "    failed_tests = df[df['Status'] == 'No']\n",
    "    for index, row in failed_tests.iterrows():\n",
    "        print(\"number: \", row['Issue Number'])\n",
    "        print(\"Type of issue: \", row['Type of issue'])\n",
    "        print(\"Steps to reproduce: \", row['Steps to reproduce'])\n",
    "        print(\"How to fix: \", row['How to fix(if known)'])\n",
    "        print(\"\")\n",
    "\n",
    "list_failed_tests()"
   ]
  },
  {
   "cell_type": "code",
   "execution_count": 18,
   "metadata": {},
   "outputs": [
    {
     "name": "stdout",
     "output_type": "stream",
     "text": [
      "None\n"
     ]
    }
   ],
   "source": []
  }
 ],
 "metadata": {
  "kernelspec": {
   "display_name": "Python 3",
   "language": "python",
   "name": "python3"
  },
  "language_info": {
   "codemirror_mode": {
    "name": "ipython",
    "version": 3
   },
   "file_extension": ".py",
   "mimetype": "text/x-python",
   "name": "python",
   "nbconvert_exporter": "python",
   "pygments_lexer": "ipython3",
   "version": "3.11.0"
  },
  "orig_nbformat": 4
 },
 "nbformat": 4,
 "nbformat_minor": 2
}
